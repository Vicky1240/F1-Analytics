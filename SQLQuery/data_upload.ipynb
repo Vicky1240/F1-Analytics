{
 "cells": [
  {
   "cell_type": "code",
   "execution_count": 1,
   "metadata": {},
   "outputs": [
    {
     "data": {
      "text/plain": [
       "True"
      ]
     },
     "execution_count": 1,
     "metadata": {},
     "output_type": "execute_result"
    }
   ],
   "source": [
    "from sqlalchemy import create_engine,text\n",
    "import os\n",
    "import pandas as pd\n",
    "import chardet\n",
    "from dotenv import load_dotenv\n",
    "\n",
    "load_dotenv()"
   ]
  },
  {
   "cell_type": "code",
   "execution_count": 3,
   "metadata": {},
   "outputs": [],
   "source": [
    "# Fetch MySQL connection details from environment variables\n",
    "username = os.getenv(\"MYSQL_USERNAME\")\n",
    "password = os.getenv(\"MYSQL_PASSWORD\")\n",
    "host = os.getenv(\"MYSQL_HOST\")\n",
    "database = os.getenv(\"MYSQL_DATABASE\")"
   ]
  },
  {
   "cell_type": "code",
   "execution_count": 4,
   "metadata": {},
   "outputs": [],
   "source": [
    "# Create a connection string\n",
    "connection_string = f'mysql+mysqlconnector://{username}:{password}@{host}/{database}'\n",
    "\n",
    "# Create an engine\n",
    "engine = create_engine(connection_string)"
   ]
  },
  {
   "cell_type": "code",
   "execution_count": 12,
   "metadata": {},
   "outputs": [
    {
     "name": "stdout",
     "output_type": "stream",
     "text": [
      "Uploading ../dataset/circuits.csv to table `circuits`...\n",
      "✅ Successfully uploaded 77 records to `circuits`\n",
      "Uploading ../dataset/status.csv to table `status`...\n",
      "✅ Successfully uploaded 139 records to `status`\n",
      "Uploading ../dataset/drivers.csv to table `drivers`...\n",
      "✅ Successfully uploaded 861 records to `drivers`\n",
      "Uploading ../dataset/driverStandings.csv to table `driverStandings`...\n",
      "✅ Successfully uploaded 34863 records to `driverStandings`\n",
      "Uploading ../dataset/constructors.csv to table `constructors`...\n",
      "✅ Successfully uploaded 212 records to `constructors`\n",
      "Uploading ../dataset/constructorResults.csv to table `constructorResults`...\n",
      "✅ Successfully uploaded 12625 records to `constructorResults`\n",
      "Uploading ../dataset/lapTimes.csv to table `lapTimes`...\n",
      "✅ Successfully uploaded 589081 records to `lapTimes`\n",
      "Uploading ../dataset/qualifying.csv to table `qualifying`...\n",
      "✅ Successfully uploaded 10494 records to `qualifying`\n",
      "Uploading ../dataset/pitStops.csv to table `pitStops`...\n",
      "✅ Successfully uploaded 11371 records to `pitStops`\n",
      "Uploading ../dataset/seasons.csv to table `seasons`...\n",
      "✅ Successfully uploaded 75 records to `seasons`\n",
      "Uploading ../dataset/races.csv to table `races`...\n",
      "✅ Successfully uploaded 1125 records to `races`\n",
      "Uploading ../dataset/constructorStandings.csv to table `constructorStandings`...\n",
      "✅ Successfully uploaded 13391 records to `constructorStandings`\n",
      "Uploading ../dataset/results.csv to table `results`...\n",
      "✅ Successfully uploaded 26759 records to `results`\n",
      "✅ All CSV files uploaded successfully!\n"
     ]
    }
   ],
   "source": [
    "# Path to Folder Containing CSV Files\n",
    "folder_path = \"../dataset/\"\n",
    "\n",
    "# Function to Upload CSV to MySQL\n",
    "def upload_csv_to_mysql(file_path, table_name):\n",
    "    print(f\"Uploading {file_path} to table `{table_name}`...\")\n",
    "\n",
    "    # Read CSV into DataFrame\n",
    "    df = pd.read_csv(file_path, encoding=\"latin1\")\n",
    "\n",
    "    # Convert Column Names to Lowercase (Optional)\n",
    "    #df.columns = [col.lower().replace(\" \", \"_\") for col in df.columns]\n",
    "    with engine.begin() as conn:\n",
    "        conn.execute(text(\"SET FOREIGN_KEY_CHECKS = 0\"))\n",
    "\n",
    "    # Write DataFrame to MySQL (append mode to avoid replacing existing data)\n",
    "    try:\n",
    "        df.to_sql(name=table_name, con=engine, if_exists=\"append\", index=False)\n",
    "        print(f\"✅ Successfully uploaded {len(df)} records to `{table_name}`\")\n",
    "    except Exception as e:\n",
    "        print(f\"❌ Error uploading to `{table_name}`: {e}\")\n",
    "        \n",
    "    with engine.begin() as conn:\n",
    "        conn.execute(text(\"SET FOREIGN_KEY_CHECKS = 1\"))\n",
    "\n",
    "files = ['circuits.csv',\n",
    " 'status.csv',\n",
    " 'drivers.csv',\n",
    " 'driverStandings.csv',\n",
    " 'constructors.csv',\n",
    " 'constructorResults.csv',\n",
    " 'lapTimes.csv',\n",
    " 'qualifying.csv',\n",
    " 'pitStops.csv',\n",
    " 'seasons.csv',\n",
    " 'races.csv',\n",
    " 'constructorStandings.csv',\n",
    " 'results.csv']\n",
    "\n",
    "# Loop Through All CSV Files in Folder\n",
    "for file in files:\n",
    "    if file.endswith(\".csv\"):\n",
    "        file_path = os.path.join(folder_path, file)\n",
    "        table_name = os.path.splitext(file)[0]  # Use filename as table name\n",
    "        upload_csv_to_mysql(file_path, table_name)\n",
    "\n",
    "print(\"✅ All CSV files uploaded successfully!\")"
   ]
  }
 ],
 "metadata": {
  "kernelspec": {
   "display_name": "base",
   "language": "python",
   "name": "python3"
  },
  "language_info": {
   "codemirror_mode": {
    "name": "ipython",
    "version": 3
   },
   "file_extension": ".py",
   "mimetype": "text/x-python",
   "name": "python",
   "nbconvert_exporter": "python",
   "pygments_lexer": "ipython3",
   "version": "3.12.2"
  }
 },
 "nbformat": 4,
 "nbformat_minor": 2
}
